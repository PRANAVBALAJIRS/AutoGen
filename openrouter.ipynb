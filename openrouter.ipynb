{
 "cells": [
  {
   "cell_type": "code",
   "execution_count": 1,
   "id": "591185f8",
   "metadata": {},
   "outputs": [],
   "source": [
    "import asyncio\n",
    "from autogen_agentchat.agents import AssistantAgent\n",
    "from autogen_agentchat.teams import SelectorGroupChat\n",
    "from autogen_ext.models.openai import OpenAIChatCompletionClient\n",
    "from autogen_agentchat.conditions import TextMentionTermination\n",
    "from dotenv import load_dotenv\n",
    "import os\n",
    "\n",
    "load_dotenv()\n",
    "\n",
    "open_router_api_key = os.getenv('OPENROUTER_API_KEY')"
   ]
  },
  {
   "cell_type": "code",
   "execution_count": 15,
   "id": "d8178919",
   "metadata": {},
   "outputs": [],
   "source": [
    "open_router_model_client = OpenAIChatCompletionClient(\n",
    "    base_url = \"https://openrouter.ai/api/v1\",\n",
    "    model = \"deepseek/deepseek-r1\",\n",
    "    api_key = open_router_api_key,\n",
    "    model_info = {\n",
    "        \"family\": 'deepseek',\n",
    "        \"vision\": True,\n",
    "        \"function_calling\": True,\n",
    "        \"json_output\": False\n",
    "    }\n",
    ")"
   ]
  },
  {
   "cell_type": "code",
   "execution_count": 16,
   "id": "3734ab1a",
   "metadata": {},
   "outputs": [],
   "source": [
    "assistant_agent1 = AssistantAgent(\n",
    "    name = 'helpful_agent',\n",
    "    model_client = open_router_model_client,\n",
    "    system_message = 'You are a helpful assistant Agent'\n",
    ")"
   ]
  },
  {
   "cell_type": "code",
   "execution_count": 17,
   "id": "195db784",
   "metadata": {},
   "outputs": [
    {
     "name": "stdout",
     "output_type": "stream",
     "text": [
      "[TextMessage(id='40dc8a70-908f-4f5f-9026-bf1fcc339c98', source='user', models_usage=None, metadata={}, created_at=datetime.datetime(2025, 10, 17, 5, 48, 14, 749800, tzinfo=datetime.timezone.utc), content='Hey how are you today ?', type='TextMessage'), TextMessage(id='0bb38c31-4d52-41ea-8a7b-15d72beb24e0', source='helpful_agent', models_usage=RequestUsage(prompt_tokens=17, completion_tokens=141), metadata={}, created_at=datetime.datetime(2025, 10, 17, 5, 48, 17, 890345, tzinfo=datetime.timezone.utc), content=\"Hello! I'm just a computer program, so I don't have feelings, but thanks for asking! How can I assist you today?\", type='TextMessage')]\n"
     ]
    }
   ],
   "source": [
    "result = await assistant_agent1.run(task = 'Hey how are you today ?')\n",
    "print(result.messages)"
   ]
  },
  {
   "cell_type": "code",
   "execution_count": 18,
   "id": "1a5b4641",
   "metadata": {},
   "outputs": [
    {
     "data": {
      "text/plain": [
       "\"Hello! I'm just a computer program, so I don't have feelings, but thanks for asking! How can I assist you today?\""
      ]
     },
     "execution_count": 18,
     "metadata": {},
     "output_type": "execute_result"
    }
   ],
   "source": [
    "result.messages[-1].content"
   ]
  }
 ],
 "metadata": {
  "kernelspec": {
   "display_name": "autogen",
   "language": "python",
   "name": "python3"
  },
  "language_info": {
   "codemirror_mode": {
    "name": "ipython",
    "version": 3
   },
   "file_extension": ".py",
   "mimetype": "text/x-python",
   "name": "python",
   "nbconvert_exporter": "python",
   "pygments_lexer": "ipython3",
   "version": "3.10.18"
  }
 },
 "nbformat": 4,
 "nbformat_minor": 5
}
