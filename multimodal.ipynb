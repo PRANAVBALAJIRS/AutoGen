{
 "cells": [
  {
   "cell_type": "code",
   "execution_count": 1,
   "id": "e31b0556",
   "metadata": {},
   "outputs": [],
   "source": [
    "import asyncio\n",
    "from autogen_agentchat.agents import AssistantAgent\n",
    "from autogen_ext.models.openai import OpenAIChatCompletionClient\n",
    "from autogen_agentchat.messages import TextMessage, MultiModalMessage\n",
    "from autogen_core import Image as AGImage\n",
    "from PIL import Image\n",
    "from io import BytesIO\n",
    "import requests\n",
    "from dotenv import load_dotenv\n",
    "import os\n",
    "\n",
    "load_dotenv()\n",
    "api_key = os.getenv('GOOGLE_API_KEY')"
   ]
  },
  {
   "cell_type": "code",
   "execution_count": 2,
   "id": "6901ebb7",
   "metadata": {},
   "outputs": [],
   "source": [
    "model_client = OpenAIChatCompletionClient(model = \"gemini-2.5-flash\", api_key = api_key)"
   ]
  },
  {
   "cell_type": "code",
   "execution_count": 3,
   "id": "ea07d59e",
   "metadata": {},
   "outputs": [],
   "source": [
    "agent = AssistantAgent(\n",
    "    name = \"text_agent\",\n",
    "    model_client = model_client,\n",
    "    system_message = 'You are a helpful assistant, answer the questions accurately'\n",
    ")"
   ]
  },
  {
   "cell_type": "code",
   "execution_count": 5,
   "id": "29170978",
   "metadata": {},
   "outputs": [
    {
     "name": "stdout",
     "output_type": "stream",
     "text": [
      "Delhi was chosen as the capital of British India in **1911**, replacing Calcutta (Kolkata). The decision was announced by King George V during the Delhi Durbar, based on the recommendation of Viceroy Lord Hardinge.\n",
      "\n",
      "The reasons for this significant shift were multifaceted, combining strategic, historical, and administrative considerations:\n",
      "\n",
      "1.  **Historical Significance and Symbolism:** Delhi has been the seat of power for numerous empires and kingdoms throughout Indian history, including the Delhi Sultanate and the Mughal Empire. It was laden with historical significance and strong symbolic resonance. Choosing Delhi connected the British Raj to a long line of powerful rulers, lending legitimacy and a sense of continuity to their rule in the eyes of the Indian populace.\n",
      "\n",
      "2.  **Strategic Geographical Location:** Calcutta, while a major port and economic hub, was perceived as being on the periphery of the vast Indian subcontinent, located on the eastern coast. Delhi offered a more centrally located capital, providing better access to the administrative and military regions of Northern and North-Western India, which were crucial for defense and control, especially with the North-West Frontier issues.\n",
      "\n",
      "3.  **Administrative Convenience:** A more central capital would facilitate better communication and administration across the diverse regions of British India. It was also seen as a way to move the administrative center away from the strong Bengali nationalist sentiments that were particularly potent in Calcutta following the 1905 Partition of Bengal.\n",
      "\n",
      "4.  **Political Neutrality (Relative):** Moving the capital was also seen as a way to diffuse the growing political unrest and nationalist movements concentrated in Bengal. While not entirely neutral, Delhi had a different political dynamic than the highly charged Calcutta.\n",
      "\n",
      "5.  **Space for Expansion and Grandeur:** Delhi offered ample space for the construction of a new, modern administrative complex (New Delhi), designed to project the power, permanence, and grandeur of the British Empire. This allowed for the creation of a purpose-built capital city.\n",
      "\n",
      "The official announcement was made on December 12, 1911. Construction of New Delhi began shortly after, and it was formally inaugurated as the capital in 1931. After India gained independence in 1947, Delhi continued to serve as the capital of the Republic of India.\n"
     ]
    }
   ],
   "source": [
    "async def test_text_messages():\n",
    "    text_msg =TextMessage(content=\"Whay was Delhi choosen as the capital of India\", source='user')\n",
    "    result = await agent.run(task=text_msg)\n",
    "    print(result.messages[-1].content)\n",
    "\n",
    "await test_text_messages()"
   ]
  },
  {
   "cell_type": "markdown",
   "id": "ecd8fc28",
   "metadata": {},
   "source": [
    "### Multi-modal Messages"
   ]
  },
  {
   "cell_type": "code",
   "execution_count": 6,
   "id": "d99ce617",
   "metadata": {},
   "outputs": [
    {
     "name": "stdout",
     "output_type": "stream",
     "text": [
      "The image shows a **tall, powerful waterfall** cascading down a steep, rocky gorge or cliff in a natural, lush environment.\n",
      "\n",
      "Here's a breakdown of what's in the image:\n",
      "\n",
      "*   **Waterfall:** The most prominent feature, a bright white stream of water, is falling vertically from a high point in the upper center of the image.\n",
      "*   **Rocky Streambed/Foreground:** The lower two-thirds of the image are dominated by a streambed filled with numerous rocks, pebbles, and larger boulders. These rocks are of varying sizes and shades of grey, brown, and some appear wet, indicating the presence of water or recent flow. A shallow stream or pool of water can be seen winding through these rocks in the midground.\n",
      "*   **Cliffs and Vegetation:** On either side of the waterfall, the cliffs are covered in dense, dark green foliage, including trees, mosses, and possibly ferns, suggesting a damp and verdant landscape. The rock faces themselves appear dark and rugged.\n",
      "\n",
      "The overall impression is one of natural beauty, ruggedness, and tranquility, typical of a forest or mountain waterfall scene.\n"
     ]
    }
   ],
   "source": [
    "async def test_multi_modal():\n",
    "    response = requests.get('https://picsum.photos/id/15/200/300')\n",
    "    pil_image = Image.open(BytesIO(response.content))\n",
    "    ag_image = AGImage(pil_image)\n",
    "\n",
    "    multi_modal_msg = MultiModalMessage(\n",
    "        content = ['What is in the image', ag_image],\n",
    "        source='user'\n",
    "    )\n",
    "\n",
    "    result = await agent.run(task=multi_modal_msg)\n",
    "    print(result.messages[-1].content)\n",
    "\n",
    "await test_multi_modal()"
   ]
  },
  {
   "cell_type": "markdown",
   "id": "49e4690f",
   "metadata": {},
   "source": [
    "### Unstructured Output"
   ]
  },
  {
   "cell_type": "code",
   "execution_count": 7,
   "id": "7ea0a426",
   "metadata": {},
   "outputs": [],
   "source": [
    "unstructured_model_client = OpenAIChatCompletionClient(\n",
    "    model = 'gemini-2.5-flash',\n",
    "    api_key = api_key\n",
    ")"
   ]
  },
  {
   "cell_type": "code",
   "execution_count": 8,
   "id": "b479ca15",
   "metadata": {},
   "outputs": [],
   "source": [
    "unstructured_agent = AssistantAgent(\n",
    "    name = 'unstructured_planet_agent',\n",
    "    model_client = unstructured_model_client,\n",
    "    system_message = \"You are a helpful assistant that provides information about planets in a structured json format\"\\\n",
    "    \"{name : str\"\\\n",
    "    \"age : int\" \\\n",
    "    \"}\"\n",
    ")"
   ]
  },
  {
   "cell_type": "code",
   "execution_count": 16,
   "id": "a052e962",
   "metadata": {},
   "outputs": [
    {
     "name": "stdout",
     "output_type": "stream",
     "text": [
      "```json\n",
      "{\n",
      "  \"name\": \"Mars\",\n",
      "  \"strage\": 2\n",
      "}\n",
      "```\n"
     ]
    }
   ],
   "source": [
    "async def test_unstructured_output():\n",
    "    task = TextMessage(content = \"Please provide information about mars.\", source='User')\n",
    "    result = await unstructured_agent.run(task=task)\n",
    "    unstructured_response = result.messages[-1].content\n",
    "    return unstructured_response\n",
    "\n",
    "unstructured_result = await test_unstructured_output()\n",
    "print(unstructured_result)"
   ]
  },
  {
   "cell_type": "code",
   "execution_count": 18,
   "id": "b5a9fb5f",
   "metadata": {},
   "outputs": [
    {
     "data": {
      "text/plain": [
       "str"
      ]
     },
     "execution_count": 18,
     "metadata": {},
     "output_type": "execute_result"
    }
   ],
   "source": [
    "type(unstructured_result)"
   ]
  },
  {
   "cell_type": "markdown",
   "id": "45257fb6",
   "metadata": {},
   "source": [
    "### Structured Output"
   ]
  },
  {
   "cell_type": "code",
   "execution_count": 19,
   "id": "42096944",
   "metadata": {},
   "outputs": [],
   "source": [
    "from pydantic import BaseModel\n",
    "\n",
    "class PlanetInfo(BaseModel):\n",
    "    name: str\n",
    "    color: str\n",
    "    distance_miles: int"
   ]
  },
  {
   "cell_type": "code",
   "execution_count": 27,
   "id": "b99d55c3",
   "metadata": {},
   "outputs": [],
   "source": [
    "structured_model_client = OpenAIChatCompletionClient(\n",
    "    model = 'gemini-2.5-flash',\n",
    "    api_key = api_key,\n",
    "    response_format = PlanetInfo,\n",
    ")"
   ]
  },
  {
   "cell_type": "code",
   "execution_count": 28,
   "id": "f4e28521",
   "metadata": {},
   "outputs": [],
   "source": [
    "structured_agent = AssistantAgent(\n",
    "    name = \"Structured_planet_agent\",\n",
    "    model_client = structured_model_client,\n",
    "    system_message = \"You are a helpful assistant that provides information about planets. in the JSON structure\"\n",
    ")"
   ]
  },
  {
   "cell_type": "code",
   "execution_count": 29,
   "id": "3cfd47d6",
   "metadata": {},
   "outputs": [
    {
     "name": "stdout",
     "output_type": "stream",
     "text": [
      "Okay, let's dive into Mars, the captivating Red Planet!\n",
      "\n",
      "Mars is the fourth planet from the Sun and one of the most studied objects in our solar system, largely because of its potential for past life and future human exploration.\n",
      "\n",
      "---\n",
      "\n",
      "### **Mars: The Red Planet in a Nutshell**\n",
      "\n",
      "*   **Nickname:** \"The Red Planet\" due to iron oxide (rust) on its surface.\n",
      "*   **Size:** About half the diameter of Earth, making it the second smallest planet.\n",
      "*   **Atmosphere:** Very thin, mostly carbon dioxide.\n",
      "*   **Temperature:** Extremely cold, averaging -63°C (-81°F).\n",
      "*   **Water:** Abundant evidence of liquid water in its ancient past; mostly frozen water ice and subsurface ice today.\n",
      "*   **Moons:** Two small, irregularly shaped moons, Phobos and Deimos.\n",
      "*   **Key Features:** Polar ice caps, massive volcanoes (like Olympus Mons), vast canyons (like Valles Marineris), and extensive cratered terrain.\n",
      "*   **Exploration:** The most explored planet besides Earth, with numerous orbiters, landers, and rovers searching for clues about its past and potential for life.\n",
      "\n",
      "---\n",
      "\n",
      "### **Detailed Information about Mars:**\n",
      "\n",
      "1.  **Appearance and Name:**\n",
      "    *   **The Red Planet:** Its striking reddish-orange color comes from rust (iron oxide) particles in its soil and dust, which are kicked up into its atmosphere.\n",
      "    *   **Named After:** The Roman god of war, likely due to its blood-red color.\n",
      "\n",
      "2.  **Size, Gravity, and Orbit:**\n",
      "    *   **Smaller than Earth:** Mars has a diameter of about 6,779 kilometers (4,212 miles), roughly half that of Earth.\n",
      "    *   **Lower Gravity:** Its surface gravity is only about 38% of Earth's, meaning you would weigh significantly less there.\n",
      "    *   **Distance from Sun:** Varies from 207 million km (128 million miles) to 249 million km (154 million miles) due to its elliptical orbit.\n",
      "    *   **Day & Year:** A Martian day (a \"sol\") is slightly longer than an Earth day (24 hours, 37 minutes). A Martian year is much longer, about 687 Earth days (nearly twice as long).\n",
      "\n",
      "3.  **Atmosphere:**\n",
      "    *   **Thin and Cold:** Mars has a very thin atmosphere, roughly 100 times less dense than Earth's.\n",
      "    *   **Composition:** Primarily composed of **carbon dioxide (CO2)** (about 95%), with small amounts of nitrogen, argon, and traces of other gases.\n",
      "    *   **No Greenhouse Effect:** This thin atmosphere cannot trap much heat, leading to extreme cold. It also offers little protection from solar radiation.\n",
      "    *   **Dust Storms:** The thin atmosphere and strong winds can generate massive, planet-wide dust storms that can obscure the surface for months.\n",
      "\n",
      "4.  **Temperature:**\n",
      "    *   Mars is a very cold world. The average temperature is around **-63°C (-81°F)**.\n",
      "    *   Temperatures can fluctuate wildly, from as high as **20°C (68°F)** at the equator during summer days to as low as **-125°C (-195°F)** at the poles in winter.\n",
      "\n",
      "5.  **Seasons:**\n",
      "    *   Mars has an axial tilt (25.19 degrees) very similar to Earth's (23.5 degrees). This tilt causes **distinct seasons** at different times of its year.\n",
      "    *   Because its year is longer, Martian seasons are also longer.\n",
      "\n",
      "6.  **Surface Features:**\n",
      "    *   **Polar Ice Caps:** Two prominent caps exist at the poles, made of **water ice and frozen carbon dioxide (dry ice)**, which expand and contract seasonally.\n",
      "    *   **Volcanoes:** Home to the largest volcano in the solar system, **Olympus Mons**, a shield volcano towering 25 km (16 miles) high and spanning 600 km (370 miles) across. Mars also has numerous other large, but now extinct, volcanoes.\n",
      "    *   **Canyons:** Features immense canyon systems, most notably **Valles Marineris**, which is over 4,000 km (2,500 miles) long, 200 km (120 miles) wide, and up to 7 km (4 miles) deep – far larger than Earth's Grand Canyon.\n",
      "    *   **Craters:** The southern hemisphere is heavily cratered, reflecting a long history of asteroid and comet impacts. The northern hemisphere is generally smoother and flatter.\n",
      "    *   **Dunes and Plains:** Vast sandy plains and extensive fields of sand dunes, shaped by Martian winds, are common.\n",
      "\n",
      "7.  **Water on Mars (Past and Present):**\n",
      "    *   **Ancient Water:** Overwhelming evidence suggests that ancient Mars (billions of years ago) was much warmer and wetter, with abundant **liquid water** on its surface. Features like dried riverbeds, deltas, lakebeds, and minerals that only form in water strongly point to a past where rivers, lakes, and possibly even a shallow ocean existed.\n",
      "    *   **Current Water:** Today, most of Mars's water is locked up as **ice**. This includes the polar ice caps (containing both water ice and dry ice) and extensive **subsurface ice** (permafrost) beneath the surface. There's also evidence of briny (salty) liquid water occasionally flowing down crater walls for short periods, which quickly evaporates in the thin atmosphere.\n",
      "\n",
      "8.  **Moons:**\n",
      "    *   Mars has two small, irregularly shaped moons: **Phobos** and **Deimos**.\n",
      "    *   They are thought to be captured asteroids rather than having formed alongside Mars. Phobos is slowly spiraling inward and is expected to either crash into Mars or break apart to form a ring in tens of millions of years.\n",
      "\n",
      "9.  **Potential for Life:**\n",
      "    *   The search for life on Mars is a major focus of ongoing exploration.\n",
      "    *   While current surface conditions are harsh, the evidence of past liquid water and the presence of organic molecules (carbon-containing compounds, the building blocks of life) suggest that ancient Mars *could* have supported microbial life.\n",
      "    *   Future missions will continue to search for biosignatures (evidence of past or present life) in rock and soil samples, particularly from areas where water once flowed.\n",
      "\n",
      "10. **Exploration:**\n",
      "    *   Mars is the most extensively explored planet besides Earth. Numerous missions from various space agencies (NASA, ESA, ISRO, CNSA, UAE Space Agency, Roscosmos) have orbited, landed on, and roved across its surface.\n",
      "    *   **Orbiters:** Provide global mapping, atmospheric studies, and search for subsurface water.\n",
      "    *   **Landers:** Study the surface, atmosphere, and interior (e.g., Viking, Phoenix, InSight).\n",
      "    *   **Rovers:**\n",
      "        *   **Spirit & Opportunity (2004-2018):** Found extensive evidence of past water.\n",
      "        *   **Curiosity (2012-present):** Discovered evidence of ancient habitable environments in Gale Crater.\n",
      "        *   **Perseverance (2021-present):** Collecting samples for future return to Earth, searching for ancient microbial life.\n",
      "        *   **Ingenuity (2021-2024):** The first helicopter to fly on another planet, proving aerial exploration is possible.\n",
      "\n",
      "11. **Future Human Missions:**\n",
      "    *   Mars is considered the most viable target for **future human missions and potential colonization**.\n",
      "    *   Space agencies and private companies are actively developing plans and technologies for sending humans to Mars, potentially in the 2030s or beyond.\n",
      "    *   Significant challenges remain, including radiation exposure, long transit times, dust storms, and resource utilization.\n",
      "\n",
      "---\n",
      "\n",
      "Mars continues to be a frontier of scientific discovery, holding clues to our solar system's past, the potential for life beyond Earth, and the future of human exploration.\n"
     ]
    }
   ],
   "source": [
    "async def test_structured_output():\n",
    "    task = TextMessage(content=\"Please provide information about mars.\", source='User')\n",
    "    result = await agent.run(task=task)\n",
    "    structured_response = result.messages[-1].content\n",
    "    return structured_response\n",
    "\n",
    "structured_result = await test_structured_output()\n",
    "print(structured_result)"
   ]
  },
  {
   "cell_type": "code",
   "execution_count": null,
   "id": "5ed39924",
   "metadata": {},
   "outputs": [],
   "source": []
  }
 ],
 "metadata": {
  "kernelspec": {
   "display_name": "autogen",
   "language": "python",
   "name": "python3"
  },
  "language_info": {
   "codemirror_mode": {
    "name": "ipython",
    "version": 3
   },
   "file_extension": ".py",
   "mimetype": "text/x-python",
   "name": "python",
   "nbconvert_exporter": "python",
   "pygments_lexer": "ipython3",
   "version": "3.10.18"
  }
 },
 "nbformat": 4,
 "nbformat_minor": 5
}
