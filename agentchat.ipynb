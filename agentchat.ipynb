{
 "cells": [
  {
   "cell_type": "code",
   "execution_count": 1,
   "id": "049252a0",
   "metadata": {},
   "outputs": [],
   "source": [
    "from autogen_agentchat.agents import AssistantAgent\n",
    "from autogen_ext.models.openai import OpenAIChatCompletionClient\n",
    "import os\n",
    "from dotenv import load_dotenv\n",
    "\n",
    "load_dotenv()\n",
    "api_key = os.getenv('OPENAI_API_KEY')\n",
    "\n",
    "model_client = OpenAIChatCompletionClient(model='gpt-4', api_key = api_key)"
   ]
  },
  {
   "cell_type": "code",
   "execution_count": 2,
   "id": "54f00113",
   "metadata": {},
   "outputs": [],
   "source": [
    "assistant = AssistantAgent(name = \"assistant\", model_client = model_client, description = 'A basic first agent')"
   ]
  },
  {
   "cell_type": "code",
   "execution_count": 3,
   "id": "fcc3cf43",
   "metadata": {},
   "outputs": [
    {
     "name": "stdout",
     "output_type": "stream",
     "text": [
      "messages=[TextMessage(id='507b9a05-98eb-4d79-8b94-44cb9b59d89d', source='user', models_usage=None, metadata={}, created_at=datetime.datetime(2025, 10, 16, 9, 41, 8, 845067, tzinfo=datetime.timezone.utc), content='Who is the prime minister of india', type='TextMessage'), TextMessage(id='f2eea16a-72bf-4a33-9aa0-6f92a0558267', source='assistant', models_usage=RequestUsage(prompt_tokens=43, completion_tokens=9), metadata={}, created_at=datetime.datetime(2025, 10, 16, 9, 41, 24, 33912, tzinfo=datetime.timezone.utc), content='The Prime Minister of India is Narendra Modi.', type='TextMessage')] stop_reason=None\n"
     ]
    }
   ],
   "source": [
    "result = await assistant.run(task=\"Who is the prime minister of india\")\n",
    "print(result)"
   ]
  },
  {
   "cell_type": "code",
   "execution_count": 7,
   "id": "891facff",
   "metadata": {},
   "outputs": [
    {
     "name": "stdout",
     "output_type": "stream",
     "text": [
      "The Prime Minister of India is Narendra Modi.\n"
     ]
    }
   ],
   "source": [
    "print(result.messages[-1].content)"
   ]
  },
  {
   "cell_type": "code",
   "execution_count": null,
   "id": "7d8ac0c2",
   "metadata": {},
   "outputs": [],
   "source": []
  }
 ],
 "metadata": {
  "kernelspec": {
   "display_name": "autogen",
   "language": "python",
   "name": "python3"
  },
  "language_info": {
   "codemirror_mode": {
    "name": "ipython",
    "version": 3
   },
   "file_extension": ".py",
   "mimetype": "text/x-python",
   "name": "python",
   "nbconvert_exporter": "python",
   "pygments_lexer": "ipython3",
   "version": "3.10.18"
  }
 },
 "nbformat": 4,
 "nbformat_minor": 5
}
