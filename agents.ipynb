{
 "cells": [
  {
   "cell_type": "code",
   "execution_count": 1,
   "id": "7040cadf",
   "metadata": {},
   "outputs": [],
   "source": [
    "from autogen_agentchat.agents import AssistantAgent\n",
    "from autogen_ext.models.openai import OpenAIChatCompletionClient\n",
    "from autogen_agentchat.messages import TextMessage\n",
    "import os\n",
    "from dotenv import load_dotenv\n",
    "\n",
    "load_dotenv()\n",
    "api_key = os.getenv('OPENAI_API_KEY')\n",
    "model_client = OpenAIChatCompletionClient(model='gpt-4o', api_key = api_key)"
   ]
  },
  {
   "cell_type": "code",
   "execution_count": 6,
   "id": "b53f2659",
   "metadata": {},
   "outputs": [],
   "source": [
    "async def web_search(query: str) -> str:\n",
    "    \"\"\"Find information on the web\"\"\"\n",
    "    return \"GOAT means Greatest of all time\""
   ]
  },
  {
   "cell_type": "code",
   "execution_count": 7,
   "id": "a6929be6",
   "metadata": {},
   "outputs": [],
   "source": [
    "agent = AssistantAgent(\n",
    "    name = 'assistant',\n",
    "    model_client = model_client,\n",
    "    tools = [web_search],\n",
    "    system_message = 'Use Tools to solve tasks',\n",
    "    description = 'An agent which uses tool to help solve task'\n",
    ")"
   ]
  },
  {
   "cell_type": "code",
   "execution_count": 9,
   "id": "21f119d5",
   "metadata": {},
   "outputs": [
    {
     "name": "stdout",
     "output_type": "stream",
     "text": [
      "\"GOAT\" is an acronym that stands for \"Greatest of All Time.\" It is typically used to describe someone who is considered the best in a particular field, often sports, music, entertainment, or other areas where exceptional talent and achievements are recognized. The term is generally applied to individuals whose performances, accomplishments, or legacy set them apart from others.\n"
     ]
    }
   ],
   "source": [
    "result = await agent.run(task = 'What does GOAT mean')\n",
    "print(result.messages[-1].content)"
   ]
  },
  {
   "cell_type": "code",
   "execution_count": 10,
   "id": "51683753",
   "metadata": {},
   "outputs": [
    {
     "data": {
      "text/plain": [
       "TaskResult(messages=[TextMessage(id='cbb8f9ca-0916-4766-89f1-5ce7d23dc8f4', source='user', models_usage=None, metadata={}, created_at=datetime.datetime(2025, 10, 16, 12, 13, 19, 823344, tzinfo=datetime.timezone.utc), content='What does GOAT mean', type='TextMessage'), TextMessage(id='a1f5064d-4f6b-4c4d-a6bf-22a78bee5488', source='assistant', models_usage=RequestUsage(prompt_tokens=229, completion_tokens=73), metadata={}, created_at=datetime.datetime(2025, 10, 16, 12, 13, 23, 594406, tzinfo=datetime.timezone.utc), content='\"GOAT\" is an acronym that stands for \"Greatest of All Time.\" It is typically used to describe someone who is considered the best in a particular field, often sports, music, entertainment, or other areas where exceptional talent and achievements are recognized. The term is generally applied to individuals whose performances, accomplishments, or legacy set them apart from others.', type='TextMessage')], stop_reason=None)"
      ]
     },
     "execution_count": 10,
     "metadata": {},
     "output_type": "execute_result"
    }
   ],
   "source": [
    "result"
   ]
  },
  {
   "cell_type": "markdown",
   "id": "2fc7b2e1",
   "metadata": {},
   "source": [
    "on_message() method"
   ]
  },
  {
   "cell_type": "code",
   "execution_count": null,
   "id": "740ddf08",
   "metadata": {},
   "outputs": [
    {
     "name": "stdout",
     "output_type": "stream",
     "text": [
      "[]\n",
      "\n",
      "\n",
      "\n",
      "\n",
      "\n",
      "id='d8f2d8e2-924a-40e8-a1f9-257e873f2c66' source='assistant' models_usage=RequestUsage(prompt_tokens=316, completion_tokens=70) metadata={} created_at=datetime.datetime(2025, 10, 16, 12, 36, 1, 290703, tzinfo=datetime.timezone.utc) content='\"GOAT\" stands for \"Greatest of All Time.\" It is used to refer to someone who is considered the best in their particular field or activity, whether it\\'s sports, music, entertainment, or any other area where exceptional talent and achievements are recognized. The term highlights the individual\\'s outstanding contributions and status as a leading figure compared to others.' type='TextMessage'\n"
     ]
    }
   ],
   "source": [
    "from autogen_core import CancellationToken\n",
    "\n",
    "async def assistant_run() -> None:\n",
    "    response = await agent.on_messages(\n",
    "        messages = [TextMessage(content = \"What does GOAT mean\", source = 'User')],\n",
    "        cancellation_token = CancellationToken()\n",
    "    )   \n",
    "    print(response.inner_messages)\n",
    "    print('\\n\\n\\n\\n')\n",
    "    print(response.chat_message)\n",
    "\n",
    "await assistant_run()"
   ]
  },
  {
   "cell_type": "code",
   "execution_count": 12,
   "id": "44dcfdf5",
   "metadata": {},
   "outputs": [
    {
     "name": "stdout",
     "output_type": "stream",
     "text": [
      "[ToolCallRequestEvent(id='fbecc9d4-bb4c-4a6d-8fb6-d50023c81a80', source='assistant', models_usage=RequestUsage(prompt_tokens=403, completion_tokens=16), metadata={}, created_at=datetime.datetime(2025, 10, 16, 13, 6, 58, 117762, tzinfo=datetime.timezone.utc), content=[FunctionCall(id='call_9l5rAr7nZ9ygiy5mXOfRFSNw', arguments='{\"query\":\"GOAT meaning\"}', name='web_search')], type='ToolCallRequestEvent'), ToolCallExecutionEvent(id='8c85c2a3-3939-4e53-a922-8a3d57619431', source='assistant', models_usage=None, metadata={}, created_at=datetime.datetime(2025, 10, 16, 13, 6, 58, 137903, tzinfo=datetime.timezone.utc), content=[FunctionExecutionResult(content='GOAT means Greatest of all time', name='web_search', call_id='call_9l5rAr7nZ9ygiy5mXOfRFSNw', is_error=False)], type='ToolCallExecutionEvent')]\n",
      "\n",
      "\n",
      "\n",
      "\n",
      "\n",
      "id='ad936b5c-ee34-4136-9f2a-5c9aa8fd24f3' source='assistant' models_usage=None metadata={} created_at=datetime.datetime(2025, 10, 16, 13, 6, 58, 137903, tzinfo=datetime.timezone.utc) content='GOAT means Greatest of all time' type='ToolCallSummaryMessage' tool_calls=[FunctionCall(id='call_9l5rAr7nZ9ygiy5mXOfRFSNw', arguments='{\"query\":\"GOAT meaning\"}', name='web_search')] results=[FunctionExecutionResult(content='GOAT means Greatest of all time', name='web_search', call_id='call_9l5rAr7nZ9ygiy5mXOfRFSNw', is_error=False)]\n"
     ]
    }
   ],
   "source": [
    "from autogen_core import CancellationToken\n",
    "\n",
    "async def assistant_run() -> None:\n",
    "    response = await agent.on_messages(\n",
    "        messages = [TextMessage(content = \"What does GOAT mean via the tool\", source = 'User')],\n",
    "        cancellation_token = CancellationToken()\n",
    "    )   \n",
    "    print(response.inner_messages)\n",
    "    print('\\n\\n\\n\\n')\n",
    "    print(response.chat_message)\n",
    "\n",
    "await assistant_run()"
   ]
  },
  {
   "cell_type": "markdown",
   "id": "5e0c28a8",
   "metadata": {},
   "source": [
    "### Streaming Messages"
   ]
  },
  {
   "cell_type": "markdown",
   "id": "bccd1897",
   "metadata": {},
   "source": [
    "on_messages_stream()"
   ]
  },
  {
   "cell_type": "code",
   "execution_count": 14,
   "id": "9756496e",
   "metadata": {},
   "outputs": [
    {
     "name": "stdout",
     "output_type": "stream",
     "text": [
      "---------- assistant ----------\n",
      "GOAT stands for \"Greatest of All Time.\" It’s used to refer to someone or something considered the best in their field.\n",
      "[Prompt tokens: 448, Completion tokens: 28]\n",
      "---------- Summary ----------\n",
      "Number of inner messages: 0\n",
      "Total prompt tokens: 448\n",
      "Total completion tokens: 28\n",
      "Duration: 1.27 seconds\n"
     ]
    }
   ],
   "source": [
    "from autogen_agentchat.ui import Console\n",
    "\n",
    "async def assistant_run_stream() -> None:\n",
    "    await Console(\n",
    "        agent.on_messages_stream(\n",
    "            messages = [TextMessage(content='What does GOAT mean via the tool', source='User')],\n",
    "            cancellation_token = CancellationToken()\n",
    "        ),\n",
    "        output_stats = True\n",
    "    )\n",
    "\n",
    "await assistant_run_stream()"
   ]
  },
  {
   "cell_type": "code",
   "execution_count": 15,
   "id": "9cb13bfc",
   "metadata": {},
   "outputs": [
    {
     "name": "stdout",
     "output_type": "stream",
     "text": [
      "---------- assistant ----------\n",
      "The last question you asked was: \"What does GOAT mean via the tool?\"\n",
      "[Prompt tokens: 492, Completion tokens: 18]\n",
      "---------- Summary ----------\n",
      "Number of inner messages: 0\n",
      "Total prompt tokens: 492\n",
      "Total completion tokens: 18\n",
      "Duration: 1.44 seconds\n"
     ]
    }
   ],
   "source": [
    "from autogen_agentchat.ui import Console\n",
    "\n",
    "async def assistant_run_stream() -> None:\n",
    "    await Console(\n",
    "        agent.on_messages_stream(\n",
    "            messages = [TextMessage(content='What was the last question I asked', source='User')],\n",
    "            cancellation_token = CancellationToken()\n",
    "        ),\n",
    "        output_stats = True\n",
    "    )\n",
    "\n",
    "await assistant_run_stream()"
   ]
  }
 ],
 "metadata": {
  "kernelspec": {
   "display_name": "autogen",
   "language": "python",
   "name": "python3"
  },
  "language_info": {
   "codemirror_mode": {
    "name": "ipython",
    "version": 3
   },
   "file_extension": ".py",
   "mimetype": "text/x-python",
   "name": "python",
   "nbconvert_exporter": "python",
   "pygments_lexer": "ipython3",
   "version": "3.10.18"
  }
 },
 "nbformat": 4,
 "nbformat_minor": 5
}
